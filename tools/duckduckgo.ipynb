{
 "cells": [
  {
   "cell_type": "code",
   "execution_count": 1,
   "metadata": {},
   "outputs": [],
   "source": [
    "from langchain_community.tools import DuckDuckGoSearchRun # type: ignore\n",
    "from IPython.display import Markdown # type: ignore"
   ]
  },
  {
   "cell_type": "code",
   "execution_count": 2,
   "metadata": {},
   "outputs": [],
   "source": [
    "def search(search_query: str):\n",
    "    \"\"\"Search the web for information on a given topic\"\"\"\n",
    "    return DuckDuckGoSearchRun().run(search_query)"
   ]
  },
  {
   "cell_type": "code",
   "execution_count": 3,
   "metadata": {},
   "outputs": [],
   "source": [
    "search_query = \"What is the use of cantilever?\""
   ]
  },
  {
   "cell_type": "code",
   "execution_count": 4,
   "metadata": {},
   "outputs": [],
   "source": [
    "response = search(search_query)"
   ]
  },
  {
   "cell_type": "code",
   "execution_count": 5,
   "metadata": {},
   "outputs": [
    {
     "data": {
      "text/markdown": [
       "A cantilever is a beam that is supported at only one end and carries a load at the other end. Cantilevers are often used in architecture, as they allow for overhanging structures that do not need to be supported from the outside. In many cases, partially-constructed buildings create cantilevers that allow builders to work without needing falsework. Airplane wings are also cantilevers, as they ... Cantilever construction is a fundamental concept in modern architecture and structural engineering, widely utilized in various construction projects across the United States. The cantilever method allows for the creation of extended structures without the need for support from below. This article provides a comprehensive understanding of cantilever definition in construction, its uses, types ... In the field of construction, understanding different structural elements is essential for designing and building resilient structures. One such crucial element is the cantilever, a structural component that plays a pivotal role in many modern architectural designs. This article explores cantilevers in construction, their definition, design considerations, applications, and advantages, helping ... What is a Cantilever? A cantilever is a structural element in which a rigid beam is fixed at one end and free at the other, used to support a load or transfer a force. It is one of the most fundamental elements of engineering, used in various applications, from simple buildings to complex machines. In this article, we will explore the science behind cantilevers, their working principles, and ... Cantilevered structures are a vital component of modern construction, offering solutions for a variety of building types and engineering challenges. The term cantilever refers to a structural element that is supported at one end while the other end projects out into space, providing support without the need for additional supports or foundations at the extended end. In construction ..."
      ],
      "text/plain": [
       "<IPython.core.display.Markdown object>"
      ]
     },
     "execution_count": 5,
     "metadata": {},
     "output_type": "execute_result"
    }
   ],
   "source": [
    "Markdown(response)"
   ]
  },
  {
   "cell_type": "code",
   "execution_count": null,
   "metadata": {},
   "outputs": [],
   "source": []
  }
 ],
 "metadata": {
  "kernelspec": {
   "display_name": ".venv",
   "language": "python",
   "name": "python3"
  },
  "language_info": {
   "codemirror_mode": {
    "name": "ipython",
    "version": 3
   },
   "file_extension": ".py",
   "mimetype": "text/x-python",
   "name": "python",
   "nbconvert_exporter": "python",
   "pygments_lexer": "ipython3",
   "version": "3.11.6"
  }
 },
 "nbformat": 4,
 "nbformat_minor": 2
}
