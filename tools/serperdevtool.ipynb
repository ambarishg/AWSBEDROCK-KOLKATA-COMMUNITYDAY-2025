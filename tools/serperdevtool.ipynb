{
 "cells": [
  {
   "cell_type": "code",
   "execution_count": 1,
   "metadata": {},
   "outputs": [
    {
     "name": "stderr",
     "output_type": "stream",
     "text": [
      "c:\\Ambarish\\AWSBEDROCK-KOLKATA-COMMUNITYDAY-2025\\.venv\\Lib\\site-packages\\tqdm\\auto.py:21: TqdmWarning: IProgress not found. Please update jupyter and ipywidgets. See https://ipywidgets.readthedocs.io/en/stable/user_install.html\n",
      "  from .autonotebook import tqdm as notebook_tqdm\n",
      "c:\\Ambarish\\AWSBEDROCK-KOLKATA-COMMUNITYDAY-2025\\.venv\\Lib\\site-packages\\pydantic\\_internal\\_config.py:295: PydanticDeprecatedSince20: Support for class-based `config` is deprecated, use ConfigDict instead. Deprecated in Pydantic V2.0 to be removed in V3.0. See Pydantic V2 Migration Guide at https://errors.pydantic.dev/2.10/migration/\n",
      "  warnings.warn(DEPRECATION_MESSAGE, DeprecationWarning)\n",
      "c:\\Ambarish\\AWSBEDROCK-KOLKATA-COMMUNITYDAY-2025\\.venv\\Lib\\site-packages\\crewai_tools\\tools\\base_tool.py:93: PydanticDeprecatedSince20: The `schema` method is deprecated; use `model_json_schema` instead. Deprecated in Pydantic V2.0 to be removed in V3.0. See Pydantic V2 Migration Guide at https://errors.pydantic.dev/2.10/migration/\n",
      "  for arg, attribute in self.args_schema.schema()[\"properties\"].items():\n"
     ]
    },
    {
     "name": "stdout",
     "output_type": "stream",
     "text": [
      "Using Tool: Search the internet\n",
      "\n",
      "Search results: Title: The White House\n",
      "Link: https://www.whitehouse.gov/\n",
      "Snippet: Donald J. Trump. President of the United States · JD Vance. VICE PRESIDENT OF THE UNITED STATES · Melania Trump. First Lady OF THE UNITED STATES · The Cabinet. Of ...\n",
      "---\n",
      "Title: President of the United States\n",
      "Link: https://usun.usmission.gov/our-leaders/the-president-of-the-united-states/\n",
      "Snippet: Donald J. Trump serves as the 47th President of the United States. He also served as the 45th. Read the President's full biography. Visit The White ...\n",
      "---\n",
      "\n"
     ]
    }
   ],
   "source": [
    "from crewai_tools import SerperDevTool\n",
    "\n",
    "tool = SerperDevTool(\n",
    "    search_url=\"https://google.serper.dev/search\",\n",
    "    n_results=2,\n",
    ")\n",
    "\n",
    "print(tool.run(search_query=\"Who is the President of USA ?\"))"
   ]
  },
  {
   "cell_type": "code",
   "execution_count": null,
   "metadata": {},
   "outputs": [],
   "source": []
  }
 ],
 "metadata": {
  "kernelspec": {
   "display_name": ".venv",
   "language": "python",
   "name": "python3"
  },
  "language_info": {
   "codemirror_mode": {
    "name": "ipython",
    "version": 3
   },
   "file_extension": ".py",
   "mimetype": "text/x-python",
   "name": "python",
   "nbconvert_exporter": "python",
   "pygments_lexer": "ipython3",
   "version": "3.11.6"
  }
 },
 "nbformat": 4,
 "nbformat_minor": 2
}
