{
 "cells": [
  {
   "cell_type": "code",
   "execution_count": 6,
   "metadata": {},
   "outputs": [],
   "source": [
    "COLLECTION_NAME = \"HYBRID_COLLECTION\""
   ]
  },
  {
   "cell_type": "code",
   "execution_count": 22,
   "metadata": {},
   "outputs": [],
   "source": [
    "import json\n",
    "import boto3\n",
    "from pprint import pprint"
   ]
  },
  {
   "cell_type": "code",
   "execution_count": 19,
   "metadata": {},
   "outputs": [],
   "source": [
    "def generate_completion(context:str,query:str)->str:\n",
    "\n",
    "        prompt_data = f\"\"\"Human: Answer the question based on the following context:\n",
    "        {context}\\n\\n {query}\n",
    "        Assistant:\"\"\"\n",
    "\n",
    "        body = json.dumps({\"prompt\": prompt_data, \n",
    "                           \"max_tokens_to_sample\": 500})\n",
    "        modelId = \"anthropic.claude-instant-v1\"  \n",
    "        accept = \"application/json\"\n",
    "        contentType = \"application/json\"\n",
    "\n",
    "        bedrock_runtime_client = boto3.client('bedrock-runtime')\n",
    "\n",
    "        response = bedrock_runtime_client.invoke_model(\n",
    "            body=body, modelId=modelId, accept=accept, contentType=contentType\n",
    "        )\n",
    "        response_body = json.loads(response.get(\"body\").read())\n",
    "\n",
    "        response_text = response_body.get(\"completion\")\n",
    "        \n",
    "        return response_text"
   ]
  },
  {
   "cell_type": "code",
   "execution_count": 7,
   "metadata": {},
   "outputs": [],
   "source": [
    "from qdrant_client import QdrantClient, models\n",
    "import os\n",
    "\n",
    "client = QdrantClient(url = os.getenv(\"QDRANT_URL\"),\n",
    "                      api_key=os.getenv(\"QDRANT_KEY\"),timeout=600)"
   ]
  },
  {
   "cell_type": "code",
   "execution_count": 8,
   "metadata": {},
   "outputs": [
    {
     "data": {
      "text/plain": [
       "CountResult(count=49)"
      ]
     },
     "execution_count": 8,
     "metadata": {},
     "output_type": "execute_result"
    }
   ],
   "source": [
    "client.count(COLLECTION_NAME)"
   ]
  },
  {
   "cell_type": "code",
   "execution_count": 9,
   "metadata": {},
   "outputs": [],
   "source": [
    "from fastembed import TextEmbedding, SparseTextEmbedding, LateInteractionTextEmbedding\n",
    "\n",
    "dense_embedding_model = TextEmbedding(\"sentence-transformers/all-MiniLM-L6-v2\")\n",
    "bm25_embedding_model = SparseTextEmbedding(\"Qdrant/bm25\")\n",
    "late_interaction_embedding_model = LateInteractionTextEmbedding(\"colbert-ir/colbertv2.0\")"
   ]
  },
  {
   "cell_type": "code",
   "execution_count": 10,
   "metadata": {},
   "outputs": [],
   "source": [
    "query_text = \"Describe about protons in the stroma\""
   ]
  },
  {
   "cell_type": "markdown",
   "metadata": {},
   "source": [
    "### Dense Embedding "
   ]
  },
  {
   "cell_type": "code",
   "execution_count": 15,
   "metadata": {},
   "outputs": [],
   "source": [
    "results = client.query_points(\n",
    "    collection_name=COLLECTION_NAME,\n",
    "    query=next(dense_embedding_model.query_embed(query_text)),\n",
    "    using=\"all-MiniLM-L6-v2\",\n",
    "    limit=10,\n",
    "    with_payload=True,\n",
    ")"
   ]
  },
  {
   "cell_type": "code",
   "execution_count": 26,
   "metadata": {},
   "outputs": [],
   "source": [
    "def get_response(results,query_text):\n",
    "    # Assuming results is the output from client.query_points\n",
    "    results_to_return = []\n",
    "\n",
    "# Extracting text from results\n",
    "    for point in results.points:\n",
    "        results_to_return.append(point.payload[\"content\"])\n",
    "    context = \"\\n\".join(results_to_return)\n",
    "    response_text = generate_completion(context,query_text)\n",
    "\n",
    "    return response_text"
   ]
  },
  {
   "cell_type": "code",
   "execution_count": 27,
   "metadata": {},
   "outputs": [
    {
     "name": "stdout",
     "output_type": "stream",
     "text": [
      "(' Based on the given context, here are the key points about protons in the '\n",
      " 'stroma:\\n'\n",
      " '\\n'\n",
      " '- During the light reactions of photosynthesis, as electrons move through '\n",
      " 'the photosystems, protons are transported across the thylakoid membrane. '\n",
      " 'This is because the primary electron acceptor, which is located on the outer '\n",
      " 'side of the membrane, transfers its electron to an H+ carrier. This removes '\n",
      " 'a proton from the stroma while transporting an electron. \\n'\n",
      " '\\n'\n",
      " '- Hence, as the light reactions proceed, the number of protons in the stroma '\n",
      " 'decreases. The protons are being pumped across the membrane into the '\n",
      " 'lumen. \\n'\n",
      " '\\n'\n",
      " '- The NADP+ reductase enzyme, which reduces NADP+ to NADPH, is located on '\n",
      " 'the stroma side of the membrane. It requires protons for this reaction. So '\n",
      " 'more protons are removed from the stroma.\\n'\n",
      " '\\n'\n",
      " '- This leads to the accumulation of protons in the lumen and a decrease in '\n",
      " 'proton concentration (and increase in pH) in the stroma. \\n'\n",
      " '\\n'\n",
      " '- Overall, there is a proton gradient created across the thylakoid membrane, '\n",
      " 'with higher proton concentration in the lumen and lower concentration in the '\n",
      " 'stroma, due to the transport of protons from the stroma to the lumen during '\n",
      " 'the light reactions.\\n'\n",
      " '\\n'\n",
      " 'So in summary, the key point about protons in the stroma is that their '\n",
      " 'number decreases during the light reactions as protons are pumped from the '\n",
      " 'stroma into the thylakoid lumen, helping to establish the proton gradient '\n",
      " 'across the membrane.')\n"
     ]
    }
   ],
   "source": [
    "pprint(get_response(results,query_text))"
   ]
  },
  {
   "cell_type": "markdown",
   "metadata": {},
   "source": [
    "### Sparse Embedding"
   ]
  },
  {
   "cell_type": "code",
   "execution_count": 28,
   "metadata": {},
   "outputs": [],
   "source": [
    "sparse_query_vector = next(bm25_embedding_model.query_embed(query_text))"
   ]
  },
  {
   "cell_type": "code",
   "execution_count": 29,
   "metadata": {},
   "outputs": [],
   "source": [
    "late_query_vector = next(late_interaction_embedding_model.query_embed(query_text))"
   ]
  },
  {
   "cell_type": "code",
   "execution_count": 33,
   "metadata": {},
   "outputs": [],
   "source": [
    "results = client.query_points(\n",
    "        collection_name=COLLECTION_NAME,\n",
    "        query=models.SparseVector(**sparse_query_vector.as_object()),\n",
    "        using=\"bm25\",\n",
    "        with_payload=True,\n",
    "        limit=10,\n",
    "    )"
   ]
  },
  {
   "cell_type": "code",
   "execution_count": 35,
   "metadata": {},
   "outputs": [
    {
     "name": "stdout",
     "output_type": "stream",
     "text": [
      "(' Based on the context given, here are the key points about protons in the '\n",
      " 'stroma:\\n'\n",
      " '\\n'\n",
      " '1. During photosynthesis, protons are removed from the stroma. This leads to '\n",
      " 'a decrease in the number of protons in the stroma. \\n'\n",
      " '\\n'\n",
      " '2. Protons are removed from the stroma as electrons move through the '\n",
      " 'photosystems. The primary electron acceptor, which is located on the outer '\n",
      " 'side of the membrane, transfers its electron not to an electron carrier but '\n",
      " 'to an H+ carrier. This removes a proton from the stroma while transporting '\n",
      " 'an electron. \\n'\n",
      " '\\n'\n",
      " '3. As this process occurs across the membrane, it leads to an accumulation '\n",
      " 'of protons in the lumen (inner side of the membrane) and a decrease in '\n",
      " 'protons in the stroma (outer side). \\n'\n",
      " '\\n'\n",
      " '4. This creates a proton gradient across the thylakoid membrane, with more '\n",
      " 'protons inside the lumen and fewer protons in the stroma. It also leads to a '\n",
      " 'measurable decrease in the pH in the lumen. \\n'\n",
      " '\\n'\n",
      " '5. The proton gradient is important because it provides the energy for ATP '\n",
      " 'synthesis. The breakdown of this gradient through the movement of protons '\n",
      " 'back across the membrane via the ATP synthase leads to the synthesis of ATP '\n",
      " 'from ADP and Pi. \\n'\n",
      " '\\n'\n",
      " '6. In summary, protons are actively transported from the stroma across the '\n",
      " 'membrane during electron transport in photosynthesis. This removal of '\n",
      " 'protons from the stroma contributes to the establishment of an '\n",
      " 'electrochemical proton gradient across the thylakoid membrane.')\n"
     ]
    }
   ],
   "source": [
    "pprint(get_response(results,query_text))"
   ]
  },
  {
   "cell_type": "markdown",
   "metadata": {},
   "source": [
    "### RRF"
   ]
  },
  {
   "cell_type": "code",
   "execution_count": 36,
   "metadata": {},
   "outputs": [],
   "source": [
    "prefetch = [\n",
    "        models.Prefetch(\n",
    "            query=next(dense_embedding_model.query_embed(query_text)),\n",
    "            using=\"all-MiniLM-L6-v2\",\n",
    "            limit=20,\n",
    "        ),\n",
    "        models.Prefetch(\n",
    "            query=models.SparseVector(**sparse_query_vector.as_object()),\n",
    "            using=\"bm25\",\n",
    "            limit=20,\n",
    "        ),\n",
    "    ]\n",
    "results = client.query_points(\n",
    "        collection_name=COLLECTION_NAME,\n",
    "        prefetch=prefetch,\n",
    "        query=models.FusionQuery(\n",
    "            fusion=models.Fusion.RRF,\n",
    "        ),\n",
    "        with_payload=True,\n",
    "        limit=10,\n",
    "    )"
   ]
  },
  {
   "cell_type": "code",
   "execution_count": 37,
   "metadata": {},
   "outputs": [
    {
     "name": "stdout",
     "output_type": "stream",
     "text": [
      "(' Based on the context given, here are the key points about protons in the '\n",
      " 'stroma:\\n'\n",
      " '\\n'\n",
      " '- During the process of photosynthesis within the chloroplast, protons in '\n",
      " 'the stroma decrease in number. This is because:\\n'\n",
      " '\\n'\n",
      " '1. The primary electron acceptor which is located towards the outer side of '\n",
      " 'the thylakoid membrane transfers its electron not to an electron carrier but '\n",
      " 'to an H+ carrier. So this removes a proton from the stroma while '\n",
      " 'transporting an electron. \\n'\n",
      " '\\n'\n",
      " '2. Along with electrons that come from the acceptor of electrons of PS I, '\n",
      " 'protons are necessary for the reduction of NADP+ to NADPH+H+. These protons '\n",
      " 'are also removed from the stroma. \\n'\n",
      " '\\n'\n",
      " '- This removal of protons from the stroma contributes to the development of '\n",
      " 'a proton gradient across the thylakoid membrane, with more protons '\n",
      " 'accumulating in the thylakoid lumen and fewer in the stroma. \\n'\n",
      " '\\n'\n",
      " '- This proton gradient is important because its breakdown leads to ATP '\n",
      " 'synthesis. The protons move back across the thylakoid membrane through the '\n",
      " 'ATP synthase enzyme complex. This breakdown of the gradient provides enough '\n",
      " 'energy for ATP synthase to catalyze the formation of ATP molecules.\\n'\n",
      " '\\n'\n",
      " 'So in summary, protons in the stroma decrease during photosynthesis as they '\n",
      " 'are removed/transported across the thylakoid membrane, contributing to the '\n",
      " 'establishment of an electrochemical proton gradient which is then utilized '\n",
      " 'for ATP synthesis.')\n"
     ]
    }
   ],
   "source": [
    "pprint(get_response(results,query_text))"
   ]
  },
  {
   "cell_type": "markdown",
   "metadata": {},
   "source": [
    "### Late Interaction Fusion"
   ]
  },
  {
   "cell_type": "code",
   "execution_count": 39,
   "metadata": {},
   "outputs": [],
   "source": [
    "prefetch = [\n",
    "        models.Prefetch(\n",
    "            query=next(dense_embedding_model.query_embed(query_text)),\n",
    "            using=\"all-MiniLM-L6-v2\",\n",
    "            limit=20,\n",
    "        ),\n",
    "        models.Prefetch(\n",
    "            query=models.SparseVector(**sparse_query_vector.as_object()),\n",
    "            using=\"bm25\",\n",
    "            limit=20,\n",
    "        ),\n",
    "    ]\n",
    "results = client.query_points(\n",
    "        collection_name=COLLECTION_NAME,\n",
    "    prefetch=prefetch,\n",
    "    query=late_query_vector,\n",
    "    using=\"colbertv2.0\",\n",
    "    with_payload=True,\n",
    "    limit=5,\n",
    ")"
   ]
  },
  {
   "cell_type": "code",
   "execution_count": 40,
   "metadata": {},
   "outputs": [
    {
     "name": "stdout",
     "output_type": "stream",
     "text": [
      "(' Based on the context provided, here are the key points about protons in the '\n",
      " 'stroma:\\n'\n",
      " '\\n'\n",
      " '- During photosynthesis in the chloroplast, protons in the stroma decrease '\n",
      " 'in number. This is because:\\n'\n",
      " '\\n'\n",
      " '1. The primary acceptor of electrons from photosystem II, which is located '\n",
      " 'on the outer side of the thylakoid membrane, transports an electron by also '\n",
      " 'removing a proton from the stroma side. \\n'\n",
      " '\\n'\n",
      " '2. The NADP+ reductase enzyme, which reduces NADP+ to NADPH, is located on '\n",
      " 'the stroma side of the membrane. This process requires protons from the '\n",
      " 'stroma. \\n'\n",
      " '\\n'\n",
      " '- So as electrons move through the photosystems and are transported across '\n",
      " 'the membrane, protons are removed from the stroma side. \\n'\n",
      " '\\n'\n",
      " '- This creates a proton gradient across the thylakoid membrane, with fewer '\n",
      " 'protons on the stroma side and accumulation of protons in the thylakoid '\n",
      " 'lumen inside the membrane. \\n'\n",
      " '\\n'\n",
      " '- It is this proton gradient, with higher concentration of protons in the '\n",
      " 'lumen, that is important for ATP synthesis through chemiosmosis. The '\n",
      " 'gradient is broken down as protons diffuse back into the stroma through ATP '\n",
      " 'synthase, providing the energy to drive ATP production.\\n'\n",
      " '\\n'\n",
      " 'In summary, the key point about protons in the stroma is that their number '\n",
      " 'decreases during photosynthesis as protons are transported across the '\n",
      " 'thylakoid membrane along with electron transport. This helps establish the '\n",
      " 'proton gradient needed for ATP synthesis.')\n"
     ]
    }
   ],
   "source": [
    "pprint(get_response(results,query_text))"
   ]
  }
 ],
 "metadata": {
  "kernelspec": {
   "display_name": ".venv",
   "language": "python",
   "name": "python3"
  },
  "language_info": {
   "codemirror_mode": {
    "name": "ipython",
    "version": 3
   },
   "file_extension": ".py",
   "mimetype": "text/x-python",
   "name": "python",
   "nbconvert_exporter": "python",
   "pygments_lexer": "ipython3",
   "version": "3.11.6"
  }
 },
 "nbformat": 4,
 "nbformat_minor": 2
}
