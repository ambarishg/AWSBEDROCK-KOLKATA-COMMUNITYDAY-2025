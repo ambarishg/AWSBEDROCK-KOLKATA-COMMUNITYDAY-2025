{
 "cells": [
  {
   "cell_type": "code",
   "execution_count": 1,
   "metadata": {},
   "outputs": [],
   "source": [
    "import warnings\n",
    "warnings.filterwarnings(\"ignore\")"
   ]
  },
  {
   "cell_type": "code",
   "execution_count": 2,
   "metadata": {},
   "outputs": [
    {
     "name": "stderr",
     "output_type": "stream",
     "text": [
      "c:\\Ambarish\\AWSBEDROCK-KOLKATA-COMMUNITYDAY-2025\\.venv\\Lib\\site-packages\\pydantic\\_internal\\_config.py:295: PydanticDeprecatedSince20: Support for class-based `config` is deprecated, use ConfigDict instead. Deprecated in Pydantic V2.0 to be removed in V3.0. See Pydantic V2 Migration Guide at https://errors.pydantic.dev/2.10/migration/\n",
      "  warnings.warn(DEPRECATION_MESSAGE, DeprecationWarning)\n"
     ]
    }
   ],
   "source": [
    "from crewai import Agent, Task, Crew, LLM\n",
    "from crewai_tools import tool\n",
    "from langchain_community.tools import DuckDuckGoSearchRun\n",
    "import os\n",
    "from IPython.display import Markdown"
   ]
  },
  {
   "cell_type": "code",
   "execution_count": 3,
   "metadata": {},
   "outputs": [],
   "source": [
    "import sys\n",
    "sys.path.append(\"..\")\n",
    "from rag.rag_qdrant_bedrock import RAG_QDRANT_BEDROCK"
   ]
  },
  {
   "cell_type": "code",
   "execution_count": 4,
   "metadata": {},
   "outputs": [],
   "source": [
    "os.environ[\"AWS_ACCESS_KEY_ID\"] = os.environ.get(\"AWS_ACCESS_KEY_ID\")\n",
    "os.environ[\"AWS_SECRET_ACCESS_KEY\"] = os.environ.get(\"AWS_SECRET_ACCESS_KEY\")\n",
    "os.environ[\"AWS_REGION_NAME\"] = \"us-east-1\""
   ]
  },
  {
   "cell_type": "code",
   "execution_count": 5,
   "metadata": {},
   "outputs": [
    {
     "name": "stderr",
     "output_type": "stream",
     "text": [
      "c:\\Ambarish\\AWSBEDROCK-KOLKATA-COMMUNITYDAY-2025\\.venv\\Lib\\site-packages\\crewai_tools\\tools\\base_tool.py:93: PydanticDeprecatedSince20: The `schema` method is deprecated; use `model_json_schema` instead. Deprecated in Pydantic V2.0 to be removed in V3.0. See Pydantic V2 Migration Guide at https://errors.pydantic.dev/2.10/migration/\n",
      "  for arg, attribute in self.args_schema.schema()[\"properties\"].items():\n"
     ]
    }
   ],
   "source": [
    "@tool('DuckDuckGoSearch')\n",
    "def search(search_query: str):\n",
    "    \"\"\"Search the web for information on a given topic\"\"\"\n",
    "    return DuckDuckGoSearchRun().run(search_query)"
   ]
  },
  {
   "cell_type": "code",
   "execution_count": 6,
   "metadata": {},
   "outputs": [],
   "source": [
    "@tool('RAG_QDRANT')\n",
    "def rag_qdrant(search_query:str):\n",
    "    \"\"\"Gets the answer from Qdrant\"\"\"\n",
    "    rqd = RAG_QDRANT_BEDROCK()\n",
    "    return (rqd.query(search_query))"
   ]
  },
  {
   "cell_type": "code",
   "execution_count": 7,
   "metadata": {},
   "outputs": [],
   "source": [
    "modelId=\"bedrock/anthropic.claude-3-haiku-20240307-v1:0\""
   ]
  },
  {
   "cell_type": "code",
   "execution_count": 8,
   "metadata": {},
   "outputs": [],
   "source": [
    "# Configure the LLM\n",
    "llm = LLM(model=modelId)"
   ]
  },
  {
   "cell_type": "code",
   "execution_count": 9,
   "metadata": {},
   "outputs": [
    {
     "name": "stderr",
     "output_type": "stream",
     "text": [
      "c:\\Ambarish\\AWSBEDROCK-KOLKATA-COMMUNITYDAY-2025\\.venv\\Lib\\site-packages\\langchain_core\\tools\\structured.py:54: PydanticDeprecatedSince20: The `schema` method is deprecated; use `model_json_schema` instead. Deprecated in Pydantic V2.0 to be removed in V3.0. See Pydantic V2 Migration Guide at https://errors.pydantic.dev/2.10/migration/\n",
      "  return self.args_schema.schema()[\"properties\"]\n"
     ]
    }
   ],
   "source": [
    "# Define the Agent\n",
    "router_agent = Agent(\n",
    "    role='Router Assistant',\n",
    "    goal='Assistant to route to the appropriate tool',\n",
    "    backstory=\"You are an experienced assistant specializing in routing the flow to the appropriate tool.\",\n",
    "    verbose=False,\n",
    "    allow_delegation=False,\n",
    "    llm=llm,\n",
    "    tools=[search, rag_qdrant]  \n",
    ")"
   ]
  },
  {
   "cell_type": "code",
   "execution_count": 10,
   "metadata": {},
   "outputs": [],
   "source": [
    "# Define the Task\n",
    "task = Task(\n",
    "    description=\"\"\"\"\n",
    "    Based on the user's questions: {questions}, \n",
    "    ask the tool rag_qdrant. If the answer is not found, \n",
    "    ask the tool search for the answer \n",
    "    \"\"\",\n",
    "    expected_output=\"A properly well worded answer from the tool which can be used by the user.\",\n",
    "    agent=router_agent\n",
    ")"
   ]
  },
  {
   "cell_type": "code",
   "execution_count": 11,
   "metadata": {},
   "outputs": [
    {
     "name": "stderr",
     "output_type": "stream",
     "text": [
      "c:\\Ambarish\\AWSBEDROCK-KOLKATA-COMMUNITYDAY-2025\\.venv\\Lib\\site-packages\\langchain_core\\tools\\structured.py:54: PydanticDeprecatedSince20: The `schema` method is deprecated; use `model_json_schema` instead. Deprecated in Pydantic V2.0 to be removed in V3.0. See Pydantic V2 Migration Guide at https://errors.pydantic.dev/2.10/migration/\n",
      "  return self.args_schema.schema()[\"properties\"]\n"
     ]
    }
   ],
   "source": [
    "# Create the Crew\n",
    "crew = Crew(\n",
    "    agents=[router_agent],\n",
    "    tasks=[task],\n",
    "    verbose=True,\n",
    ")"
   ]
  },
  {
   "cell_type": "code",
   "execution_count": 12,
   "metadata": {},
   "outputs": [
    {
     "name": "stderr",
     "output_type": "stream",
     "text": [
      "c:\\Ambarish\\AWSBEDROCK-KOLKATA-COMMUNITYDAY-2025\\.venv\\Lib\\site-packages\\langchain_core\\tools\\structured.py:54: PydanticDeprecatedSince20: The `schema` method is deprecated; use `model_json_schema` instead. Deprecated in Pydantic V2.0 to be removed in V3.0. See Pydantic V2 Migration Guide at https://errors.pydantic.dev/2.10/migration/\n",
      "  return self.args_schema.schema()[\"properties\"]\n",
      "c:\\Ambarish\\AWSBEDROCK-KOLKATA-COMMUNITYDAY-2025\\.venv\\Lib\\site-packages\\langchain_core\\tools\\structured.py:54: PydanticDeprecatedSince20: The `schema` method is deprecated; use `model_json_schema` instead. Deprecated in Pydantic V2.0 to be removed in V3.0. See Pydantic V2 Migration Guide at https://errors.pydantic.dev/2.10/migration/\n",
      "  return self.args_schema.schema()[\"properties\"]\n"
     ]
    },
    {
     "name": "stdout",
     "output_type": "stream",
     "text": [
      "\u001b[1m\u001b[95m# Agent:\u001b[00m \u001b[1m\u001b[92mRouter Assistant\u001b[00m\n",
      "\u001b[95m## Task:\u001b[00m \u001b[92m\"\n",
      "    Based on the user's questions: What is naked trust ?, \n",
      "    ask the tool rag_qdrant. If the answer is not found, \n",
      "    ask the tool search for the answer \n",
      "    \u001b[00m\n"
     ]
    },
    {
     "name": "stderr",
     "output_type": "stream",
     "text": [
      "c:\\Ambarish\\AWSBEDROCK-KOLKATA-COMMUNITYDAY-2025\\.venv\\Lib\\site-packages\\crewai\\tools\\tool_usage.py:162: PydanticDeprecatedSince20: The `schema` method is deprecated; use `model_json_schema` instead. Deprecated in Pydantic V2.0 to be removed in V3.0. See Pydantic V2 Migration Guide at https://errors.pydantic.dev/2.10/migration/\n",
      "  acceptable_args = tool.args_schema.schema()[\"properties\"].keys()  # type: ignore # Item \"None\" of \"type[BaseModel] | None\" has no attribute \"schema\"\n",
      "c:\\Ambarish\\AWSBEDROCK-KOLKATA-COMMUNITYDAY-2025\\.venv\\Lib\\site-packages\\langchain_core\\tools\\base.py:424: PydanticDeprecatedSince20: The `parse_obj` method is deprecated; use `model_validate` instead. Deprecated in Pydantic V2.0 to be removed in V3.0. See Pydantic V2 Migration Guide at https://errors.pydantic.dev/2.10/migration/\n",
      "  result = input_args.parse_obj(tool_input)\n",
      "c:\\Ambarish\\AWSBEDROCK-KOLKATA-COMMUNITYDAY-2025\\.venv\\Lib\\site-packages\\langchain_core\\tools\\base.py:427: PydanticDeprecatedSince20: The `dict` method is deprecated; use `model_dump` instead. Deprecated in Pydantic V2.0 to be removed in V3.0. See Pydantic V2 Migration Guide at https://errors.pydantic.dev/2.10/migration/\n",
      "  for k, v in result.dict().items()\n",
      "c:\\Ambarish\\AWSBEDROCK-KOLKATA-COMMUNITYDAY-2025\\crewai\\..\\rag\\rag_qdrant_bedrock.py:40: DeprecationWarning: `search` method is deprecated and will be removed in the future. Use `query_points` instead.\n",
      "  search_result = client.search(collection_name=self.COLLECTION_NAME,\n"
     ]
    },
    {
     "name": "stdout",
     "output_type": "stream",
     "text": [
      "\n",
      "\n",
      "\u001b[1m\u001b[95m# Agent:\u001b[00m \u001b[1m\u001b[92mRouter Assistant\u001b[00m\n",
      "\u001b[95m## Using tool:\u001b[00m \u001b[92mRAG_QDRANT\u001b[00m\n",
      "\u001b[95m## Tool Input:\u001b[00m \u001b[92m\n",
      "\"{\\\"search_query\\\": \\\"naked trust\\\"}\"\u001b[00m\n",
      "\u001b[95m## Tool Output:\u001b[00m \u001b[92m\n",
      " Based on the context provided, a naked trust is defined as:\n",
      "\n",
      "A naked trust is a trust which holds property for a person until they ask the trustee to return it. \n",
      "\n",
      "So in summary, a naked trust simply holds assets on behalf of the beneficiary and has an obligation to transfer the assets to the beneficiary upon their request, with no other responsibilities for the trustees.\u001b[00m\n",
      "\n",
      "\n",
      "\u001b[1m\u001b[95m# Agent:\u001b[00m \u001b[1m\u001b[92mRouter Assistant\u001b[00m\n",
      "\u001b[95m## Final Answer:\u001b[00m \u001b[92m\n",
      "A naked trust is a type of trust where the trustee holds property on behalf of the beneficiary until the beneficiary requests the return of the assets. The trustee has a basic obligation to transfer the assets to the beneficiary upon their request, but has no other responsibilities or decision-making powers over the trust assets.\u001b[00m\n",
      "\n",
      "\n"
     ]
    }
   ],
   "source": [
    "# User input for travel preferences\n",
    "user_input = {\n",
    "    \"questions\": \"What is naked trust ?\"\n",
    "}\n",
    "\n",
    "# Execute the Crew\n",
    "result = crew.kickoff(inputs=user_input)"
   ]
  },
  {
   "cell_type": "code",
   "execution_count": 13,
   "metadata": {},
   "outputs": [
    {
     "data": {
      "text/markdown": [
       "A naked trust is a type of trust where the trustee holds property on behalf of the beneficiary until the beneficiary requests the return of the assets. The trustee has a basic obligation to transfer the assets to the beneficiary upon their request, but has no other responsibilities or decision-making powers over the trust assets."
      ],
      "text/plain": [
       "<IPython.core.display.Markdown object>"
      ]
     },
     "execution_count": 13,
     "metadata": {},
     "output_type": "execute_result"
    }
   ],
   "source": [
    "Markdown(result.raw)"
   ]
  },
  {
   "cell_type": "code",
   "execution_count": 14,
   "metadata": {},
   "outputs": [
    {
     "name": "stderr",
     "output_type": "stream",
     "text": [
      "c:\\Ambarish\\AWSBEDROCK-KOLKATA-COMMUNITYDAY-2025\\.venv\\Lib\\site-packages\\langchain_core\\tools\\structured.py:54: PydanticDeprecatedSince20: The `schema` method is deprecated; use `model_json_schema` instead. Deprecated in Pydantic V2.0 to be removed in V3.0. See Pydantic V2 Migration Guide at https://errors.pydantic.dev/2.10/migration/\n",
      "  return self.args_schema.schema()[\"properties\"]\n",
      "c:\\Ambarish\\AWSBEDROCK-KOLKATA-COMMUNITYDAY-2025\\.venv\\Lib\\site-packages\\langchain_core\\tools\\structured.py:54: PydanticDeprecatedSince20: The `schema` method is deprecated; use `model_json_schema` instead. Deprecated in Pydantic V2.0 to be removed in V3.0. See Pydantic V2 Migration Guide at https://errors.pydantic.dev/2.10/migration/\n",
      "  return self.args_schema.schema()[\"properties\"]\n"
     ]
    },
    {
     "name": "stdout",
     "output_type": "stream",
     "text": [
      "\u001b[1m\u001b[95m# Agent:\u001b[00m \u001b[1m\u001b[92mRouter Assistant\u001b[00m\n",
      "\u001b[95m## Task:\u001b[00m \u001b[92m\"\n",
      "    Based on the user's questions: What is capital of Belgium ?, \n",
      "    ask the tool rag_qdrant. If the answer is not found, \n",
      "    ask the tool search for the answer \n",
      "    \u001b[00m\n"
     ]
    },
    {
     "name": "stderr",
     "output_type": "stream",
     "text": [
      "c:\\Ambarish\\AWSBEDROCK-KOLKATA-COMMUNITYDAY-2025\\.venv\\Lib\\site-packages\\crewai\\tools\\tool_usage.py:162: PydanticDeprecatedSince20: The `schema` method is deprecated; use `model_json_schema` instead. Deprecated in Pydantic V2.0 to be removed in V3.0. See Pydantic V2 Migration Guide at https://errors.pydantic.dev/2.10/migration/\n",
      "  acceptable_args = tool.args_schema.schema()[\"properties\"].keys()  # type: ignore # Item \"None\" of \"type[BaseModel] | None\" has no attribute \"schema\"\n",
      "c:\\Ambarish\\AWSBEDROCK-KOLKATA-COMMUNITYDAY-2025\\.venv\\Lib\\site-packages\\langchain_core\\tools\\base.py:424: PydanticDeprecatedSince20: The `parse_obj` method is deprecated; use `model_validate` instead. Deprecated in Pydantic V2.0 to be removed in V3.0. See Pydantic V2 Migration Guide at https://errors.pydantic.dev/2.10/migration/\n",
      "  result = input_args.parse_obj(tool_input)\n",
      "c:\\Ambarish\\AWSBEDROCK-KOLKATA-COMMUNITYDAY-2025\\.venv\\Lib\\site-packages\\langchain_core\\tools\\base.py:427: PydanticDeprecatedSince20: The `dict` method is deprecated; use `model_dump` instead. Deprecated in Pydantic V2.0 to be removed in V3.0. See Pydantic V2 Migration Guide at https://errors.pydantic.dev/2.10/migration/\n",
      "  for k, v in result.dict().items()\n",
      "c:\\Ambarish\\AWSBEDROCK-KOLKATA-COMMUNITYDAY-2025\\crewai\\..\\rag\\rag_qdrant_bedrock.py:40: DeprecationWarning: `search` method is deprecated and will be removed in the future. Use `query_points` instead.\n",
      "  search_result = client.search(collection_name=self.COLLECTION_NAME,\n"
     ]
    },
    {
     "name": "stdout",
     "output_type": "stream",
     "text": [
      "\n",
      "\n",
      "\u001b[1m\u001b[95m# Agent:\u001b[00m \u001b[1m\u001b[92mRouter Assistant\u001b[00m\n",
      "\u001b[95m## Using tool:\u001b[00m \u001b[92mRAG_QDRANT\u001b[00m\n",
      "\u001b[95m## Tool Input:\u001b[00m \u001b[92m\n",
      "\"{\\\"search_query\\\": \\\"capital of belgium\\\"}\"\u001b[00m\n",
      "\u001b[95m## Tool Output:\u001b[00m \u001b[92m\n",
      " Based on the context provided, I do not see any information about the capital of Belgium. The context defines various legal terms but does not mention anything related to the capital of Belgium. Therefore, my answer is: I do not know.\u001b[00m\n"
     ]
    },
    {
     "name": "stderr",
     "output_type": "stream",
     "text": [
      "c:\\Ambarish\\AWSBEDROCK-KOLKATA-COMMUNITYDAY-2025\\.venv\\Lib\\site-packages\\crewai\\tools\\tool_usage.py:162: PydanticDeprecatedSince20: The `schema` method is deprecated; use `model_json_schema` instead. Deprecated in Pydantic V2.0 to be removed in V3.0. See Pydantic V2 Migration Guide at https://errors.pydantic.dev/2.10/migration/\n",
      "  acceptable_args = tool.args_schema.schema()[\"properties\"].keys()  # type: ignore # Item \"None\" of \"type[BaseModel] | None\" has no attribute \"schema\"\n",
      "c:\\Ambarish\\AWSBEDROCK-KOLKATA-COMMUNITYDAY-2025\\.venv\\Lib\\site-packages\\langchain_core\\tools\\base.py:424: PydanticDeprecatedSince20: The `parse_obj` method is deprecated; use `model_validate` instead. Deprecated in Pydantic V2.0 to be removed in V3.0. See Pydantic V2 Migration Guide at https://errors.pydantic.dev/2.10/migration/\n",
      "  result = input_args.parse_obj(tool_input)\n",
      "c:\\Ambarish\\AWSBEDROCK-KOLKATA-COMMUNITYDAY-2025\\.venv\\Lib\\site-packages\\langchain_core\\tools\\base.py:427: PydanticDeprecatedSince20: The `dict` method is deprecated; use `model_dump` instead. Deprecated in Pydantic V2.0 to be removed in V3.0. See Pydantic V2 Migration Guide at https://errors.pydantic.dev/2.10/migration/\n",
      "  for k, v in result.dict().items()\n"
     ]
    },
    {
     "name": "stdout",
     "output_type": "stream",
     "text": [
      "\n",
      "\n",
      "\u001b[1m\u001b[95m# Agent:\u001b[00m \u001b[1m\u001b[92mRouter Assistant\u001b[00m\n",
      "\u001b[95m## Using tool:\u001b[00m \u001b[92mDuckDuckGoSearch\u001b[00m\n",
      "\u001b[95m## Tool Input:\u001b[00m \u001b[92m\n",
      "\"{\\\"search_query\\\": \\\"what is the capital of belgium\\\"}\"\u001b[00m\n",
      "\u001b[95m## Tool Output:\u001b[00m \u001b[92m\n",
      "Brussels, city, capital of Belgium. It is located in the valley of the Senne (Flemish: Zenne) River, a small tributary of the Schelde (French: Escaut). Greater Brussels is the country's largest urban agglomeration. It consists of 19 communes, or municipalities, each with a large measure of Belgium, [b] officially the Kingdom of Belgium, [c] is a country in Northwestern Europe.Situated in a coastal lowland region known as the Low Countries, it is bordered by the Netherlands to the north, Germany to the east, Luxembourg to the southeast, France to the south, and the North Sea to the west. Belgium covers an area of 30,689 km 2 (11,849 sq mi) [4] and has a population of more than 11 ... In the 1980s and '90s, however, steps were taken to turn Belgium into a federal state with powers shared among the regions of Flanders, Wallonia, and the Brussels-Capital Region. Belgium (more) Culturally, Belgium is a heterogeneous country straddling the border between the Romance and Germanic language families of western Europe. Brussels - Capital, Government, Culture: A major political centre since the 15th century, Brussels was the historic capital of the duchy of Brabant. The city became the capital of independent Belgium in 1830; it also continued as the capital of the Belgian province of Brabant until 1995, when the latter was divided into separate provinces, Walloon Brabant and Flemish Brabant. Brussels, the capital city of Belgium, is situated in the valley of the Senne River, a small tributary of the Schelde River. It became officially known as the Brussels-Capital Region in 1989, following the federalization of Belgium.\n",
      "\n",
      "\n",
      "You ONLY have access to the following tools, and should NEVER make up tools that are not listed here:\n",
      "\n",
      "Tool Name: DuckDuckGoSearch(*args: Any, **kwargs: Any) -> Any\n",
      "Tool Description: DuckDuckGoSearch(search_query: 'string') - Search the web for information on a given topic \n",
      "Tool Arguments: {'search_query': {'title': 'Search Query', 'type': 'string'}}\n",
      "Tool Name: RAG_QDRANT(*args: Any, **kwargs: Any) -> Any\n",
      "Tool Description: RAG_QDRANT(search_query: 'string') - Gets the answer from Qdrant \n",
      "Tool Arguments: {'search_query': {'title': 'Search Query', 'type': 'string'}}\n",
      "\n",
      "Use the following format:\n",
      "\n",
      "Thought: you should always think about what to do\n",
      "Action: the action to take, only one name of [DuckDuckGoSearch, RAG_QDRANT], just the name, exactly as it's written.\n",
      "Action Input: the input to the action, just a simple python dictionary, enclosed in curly braces, using \" to wrap keys and values.\n",
      "Observation: the result of the action\n",
      "\n",
      "Once all necessary information is gathered:\n",
      "\n",
      "Thought: I now know the final answer\n",
      "Final Answer: the final answer to the original input question\n",
      "\u001b[00m\n",
      "\n",
      "\n",
      "\u001b[1m\u001b[95m# Agent:\u001b[00m \u001b[1m\u001b[92mRouter Assistant\u001b[00m\n",
      "\u001b[95m## Final Answer:\u001b[00m \u001b[92m\n",
      "The capital of Belgium is Brussels. Brussels is the largest city in Belgium and has been the country's capital since 1830. It is located in the valley of the Senne River, a small tributary of the Schelde River. Greater Brussels is Belgium's largest urban agglomeration and consists of 19 communes or municipalities. Brussels became the official capital of the Belgian province of Brabant until 1995, when the province was divided into Walloon Brabant and Flemish Brabant. Brussels is a major political center that has been the capital of the duchy of Brabant since the 15th century.\u001b[00m\n",
      "\n",
      "\n"
     ]
    }
   ],
   "source": [
    "# User input for travel preferences\n",
    "user_input = {\n",
    "    \"questions\": \"What is capital of Belgium ?\"\n",
    "}\n",
    "\n",
    "# Execute the Crew\n",
    "result = crew.kickoff(inputs=user_input)"
   ]
  },
  {
   "cell_type": "code",
   "execution_count": null,
   "metadata": {},
   "outputs": [],
   "source": []
  }
 ],
 "metadata": {
  "kernelspec": {
   "display_name": ".venv",
   "language": "python",
   "name": "python3"
  },
  "language_info": {
   "codemirror_mode": {
    "name": "ipython",
    "version": 3
   },
   "file_extension": ".py",
   "mimetype": "text/x-python",
   "name": "python",
   "nbconvert_exporter": "python",
   "pygments_lexer": "ipython3",
   "version": "3.11.6"
  }
 },
 "nbformat": 4,
 "nbformat_minor": 2
}
