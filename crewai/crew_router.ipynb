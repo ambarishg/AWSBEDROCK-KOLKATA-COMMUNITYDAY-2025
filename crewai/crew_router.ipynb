{
 "cells": [
  {
   "cell_type": "code",
   "execution_count": 52,
   "metadata": {},
   "outputs": [],
   "source": [
    "import warnings\n",
    "warnings.filterwarnings(\"ignore\")"
   ]
  },
  {
   "cell_type": "code",
   "execution_count": 53,
   "metadata": {},
   "outputs": [],
   "source": [
    "from crewai import Agent, Task, Crew, LLM\n",
    "from crewai_tools import tool\n",
    "from langchain_community.tools import DuckDuckGoSearchRun\n",
    "import os\n",
    "from IPython.display import Markdown"
   ]
  },
  {
   "cell_type": "code",
   "execution_count": 54,
   "metadata": {},
   "outputs": [],
   "source": [
    "os.environ[\"AWS_ACCESS_KEY_ID\"] = os.environ.get(\"AWS_ACCESS_KEY_ID\")\n",
    "os.environ[\"AWS_SECRET_ACCESS_KEY\"] = os.environ.get(\"AWS_SECRET_ACCESS_KEY\")\n",
    "os.environ[\"AWS_REGION_NAME\"] = \"us-east-1\""
   ]
  },
  {
   "cell_type": "code",
   "execution_count": null,
   "metadata": {
    "tags": [
     "parameters"
    ]
   },
   "outputs": [],
   "source": [
    "# @tool(\"Tool Name\")                           \n",
    "# def my_simple_tool(question: str) -> str:           \n",
    "#     \"\"\"Tool description for clarity.\"\"\"           \n",
    "#     # Tool logic here                       \n",
    "#     return \"Tool output\"                         "
   ]
  },
  {
   "cell_type": "code",
   "execution_count": 55,
   "metadata": {},
   "outputs": [],
   "source": [
    "@tool('DuckDuckGoSearch')\n",
    "def search(search_query: str):\n",
    "    \"\"\"Search the web for information on a given topic\"\"\"\n",
    "    return DuckDuckGoSearchRun().run(search_query)"
   ]
  },
  {
   "cell_type": "code",
   "execution_count": 56,
   "metadata": {},
   "outputs": [],
   "source": [
    "@tool('CalculatorAdd')\n",
    "def calculator_add(a,b):\n",
    "    \"\"\"Adds two numbers and gives a result\"\"\"\n",
    "    return (a+b)"
   ]
  },
  {
   "cell_type": "code",
   "execution_count": 57,
   "metadata": {},
   "outputs": [],
   "source": [
    "modelId=\"bedrock/anthropic.claude-3-haiku-20240307-v1:0\""
   ]
  },
  {
   "cell_type": "code",
   "execution_count": 58,
   "metadata": {},
   "outputs": [],
   "source": [
    "# Configure the LLM\n",
    "llm = LLM(model=modelId)"
   ]
  },
  {
   "cell_type": "code",
   "execution_count": 59,
   "metadata": {},
   "outputs": [],
   "source": [
    "# Define the Agent\n",
    "router_agent = Agent(\n",
    "    role='Router Assistant',\n",
    "    goal='Assistant to route to the appropriate tool',\n",
    "    backstory=\"You are an experienced assistant specializing in routing the flow to the appropriate tool.\",\n",
    "    verbose=False,\n",
    "    allow_delegation=False,\n",
    "    llm=llm,\n",
    "    tools=[search, calculator_add]  \n",
    ")"
   ]
  },
  {
   "cell_type": "code",
   "execution_count": 60,
   "metadata": {},
   "outputs": [],
   "source": [
    "# Define the Task\n",
    "task = Task(\n",
    "    description=\"Based on the user's questions: {questions}, route to the appropriate tool\",\n",
    "    expected_output=\"A properly well worded answer from the tool which can be used by the user.\",\n",
    "    agent=router_agent\n",
    ")"
   ]
  },
  {
   "cell_type": "code",
   "execution_count": 61,
   "metadata": {},
   "outputs": [
    {
     "name": "stderr",
     "output_type": "stream",
     "text": [
      "2025-03-28 21:07:52,845 - 17988 - __init__.py-__init__:535 - WARNING: Overriding of current TracerProvider is not allowed\n"
     ]
    }
   ],
   "source": [
    "# Create the Crew\n",
    "crew = Crew(\n",
    "    agents=[router_agent],\n",
    "    tasks=[task],\n",
    "    verbose=False,\n",
    ")"
   ]
  },
  {
   "cell_type": "code",
   "execution_count": 62,
   "metadata": {},
   "outputs": [],
   "source": [
    "# User input for travel preferences\n",
    "user_input = {\n",
    "    \"questions\": \"What is 7+9\"\n",
    "}\n",
    "\n",
    "# Execute the Crew\n",
    "result = crew.kickoff(inputs=user_input)"
   ]
  },
  {
   "cell_type": "code",
   "execution_count": 63,
   "metadata": {},
   "outputs": [
    {
     "data": {
      "text/markdown": [
       "7 + 9 = 16."
      ],
      "text/plain": [
       "<IPython.core.display.Markdown object>"
      ]
     },
     "execution_count": 63,
     "metadata": {},
     "output_type": "execute_result"
    }
   ],
   "source": [
    "Markdown(result.raw)"
   ]
  },
  {
   "cell_type": "code",
   "execution_count": 64,
   "metadata": {},
   "outputs": [
    {
     "name": "stderr",
     "output_type": "stream",
     "text": [
      "2025-03-28 21:08:04,045 - 17988 - __init__.py-__init__:535 - WARNING: Overriding of current TracerProvider is not allowed\n"
     ]
    }
   ],
   "source": [
    "# Enabling Memory in the Agent\n",
    "crew_with_memory = Crew(\n",
    "    agents=[router_agent],\n",
    "    tasks=[task],\n",
    "    verbose=True,\n",
    "    memory=True,  # Enable memory\n",
    "    embedder={\n",
    "        \"provider\": \"aws_bedrock\",\n",
    "        \"config\": {\n",
    "            \"model\": \"amazon.titan-embed-text-v1\",  # Embedding model for memory\n",
    "            \"vector_dimension\": 1024\n",
    "        }\n",
    "    },\n",
    "    \n",
    ")"
   ]
  },
  {
   "cell_type": "code",
   "execution_count": 65,
   "metadata": {},
   "outputs": [
    {
     "name": "stdout",
     "output_type": "stream",
     "text": [
      "\u001b[1m\u001b[95m# Agent:\u001b[00m \u001b[1m\u001b[92mRouter Assistant\u001b[00m\n",
      "\u001b[95m## Task:\u001b[00m \u001b[92mBased on the user's questions: What is 7+9, route to the appropriate tool\u001b[00m\n",
      "\n",
      "\n",
      "\u001b[1m\u001b[95m# Agent:\u001b[00m \u001b[1m\u001b[92mRouter Assistant\u001b[00m\n",
      "\u001b[95m## Thought:\u001b[00m \u001b[92mThought: To find the answer to \"What is 7 + 9\", I should use the CalculatorAdd tool.\u001b[00m\n",
      "\u001b[95m## Using tool:\u001b[00m \u001b[92mCalculatorAdd\u001b[00m\n",
      "\u001b[95m## Tool Input:\u001b[00m \u001b[92m\n",
      "\"{}\"\u001b[00m\n",
      "\u001b[95m## Tool Output:\u001b[00m \u001b[92m\n",
      "\n",
      "I encountered an error while trying to use the tool. This was the error: calculator_add() missing 2 required positional arguments: 'a' and 'b'.\n",
      " Tool CalculatorAdd accepts these inputs: CalculatorAdd() - Adds two numbers and gives a result .\n",
      "Moving on then. I MUST either use a tool (use one at time) OR give my best final answer not both at the same time. To Use the following format:\n",
      "\n",
      "Thought: you should always think about what to do\n",
      "Action: the action to take, should be one of [DuckDuckGoSearch, CalculatorAdd]\n",
      "Action Input: the input to the action, dictionary enclosed in curly braces\n",
      "Observation: the result of the action\n",
      "... (this Thought/Action/Action Input/Result can repeat N times)\n",
      "Thought: I now can give a great answer\n",
      "Final Answer: Your final answer must be the great and the most complete as possible, it must be outcome described\n",
      "\n",
      " \u001b[00m\n",
      "\n",
      "\n",
      "\u001b[1m\u001b[95m# Agent:\u001b[00m \u001b[1m\u001b[92mRouter Assistant\u001b[00m\n",
      "\u001b[95m## Thought:\u001b[00m \u001b[92mThought: To find the answer to \"What is 7 + 9\", I should use the CalculatorAdd tool.\u001b[00m\n",
      "\u001b[95m## Using tool:\u001b[00m \u001b[92mCalculatorAdd\u001b[00m\n",
      "\u001b[95m## Tool Input:\u001b[00m \u001b[92m\n",
      "\"{\\\"a\\\": 7, \\\"b\\\": 9}\"\u001b[00m\n",
      "\u001b[95m## Tool Output:\u001b[00m \u001b[92m\n",
      "\n",
      "I encountered an error while trying to use the tool. This was the error: calculator_add() missing 2 required positional arguments: 'a' and 'b'.\n",
      " Tool CalculatorAdd accepts these inputs: CalculatorAdd() - Adds two numbers and gives a result .\n",
      "Moving on then. I MUST either use a tool (use one at time) OR give my best final answer not both at the same time. To Use the following format:\n",
      "\n",
      "Thought: you should always think about what to do\n",
      "Action: the action to take, should be one of [DuckDuckGoSearch, CalculatorAdd]\n",
      "Action Input: the input to the action, dictionary enclosed in curly braces\n",
      "Observation: the result of the action\n",
      "... (this Thought/Action/Action Input/Result can repeat N times)\n",
      "Thought: I now can give a great answer\n",
      "Final Answer: Your final answer must be the great and the most complete as possible, it must be outcome described\n",
      "\n",
      " \u001b[00m\n",
      "\n",
      "\n",
      "\u001b[1m\u001b[95m# Agent:\u001b[00m \u001b[1m\u001b[92mRouter Assistant\u001b[00m\n",
      "\u001b[95m## Thought:\u001b[00m \u001b[92mThought: Since the CalculatorAdd tool is not working as expected, I will use the DuckDuckGoSearch tool to find the answer to \"What is 7 + 9\".\u001b[00m\n",
      "\u001b[95m## Using tool:\u001b[00m \u001b[92mDuckDuckGoSearch\u001b[00m\n",
      "\u001b[95m## Tool Input:\u001b[00m \u001b[92m\n",
      "\"{\\\"search_query\\\": \\\"7 + 9\\\"}\"\u001b[00m\n",
      "\u001b[95m## Tool Output:\u001b[00m \u001b[92m\n",
      "Olivier Rioux stands at an astounding 7'9\" — and he's not done growing. At just 18 years old, Rioux is the tallest teenager in the world, according to the Guinness Book of World Records. At 7 feet, 9 inches (2.4 meters), Rioux is the ultimate BMOC. He's actually the Biggest Man On Campus — any campus. The Florida freshman, a happy-go-lucky Canadian who owns a spot in the ... Rules for expressions with fractions: Fractions - write a forward slash to separate the numerator and the denominator, i.e., for five-hundredths, enter 5/100.If you use mixed numbers, leave a space between the whole and fraction parts. Mixed numerals (mixed numbers or fractions) - keep one space between the whole part and fraction and use a forward slash to input fraction i.e., 1 2/3. Although the flagship Ryzen chips, such as the Ryzen 9 9950X, boast a 4.3 GHz base clock a 5.7 GHz boost clock, they still aren't the best choice for gaming due to the presence of the more ... In this case, we can multiply both 7 and 9 by 11.111 (which is 100 divided by 9) to get: 7*(11.111) / 9*(11.111) = 77.778 / 100. This means that 7/9, when converted to a percent, is equal to 77.778%. When converting a fraction to a percent, adjusting the fraction's denominator to 100 allows us to express the fraction as a percentage.\u001b[00m\n",
      "\n",
      "\n",
      "\u001b[1m\u001b[95m# Agent:\u001b[00m \u001b[1m\u001b[92mRouter Assistant\u001b[00m\n",
      "\u001b[95m## Thought:\u001b[00m \u001b[92mThought: Since the CalculatorAdd tool is not working as expected, I will use the DuckDuckGoSearch tool to find the answer to \"What is 7 + 9\".\u001b[00m\n",
      "\u001b[95m## Using tool:\u001b[00m \u001b[92mDuckDuckGoSearch\u001b[00m\n",
      "\u001b[95m## Tool Input:\u001b[00m \u001b[92m\n",
      "\"{\\\"search_query\\\": \\\"7 + 9\\\"}\"\u001b[00m\n",
      "\u001b[95m## Tool Output:\u001b[00m \u001b[92m\n",
      "I tried reusing the same input, I must stop using this action input. I'll try something else instead.\n",
      "\n",
      "\u001b[00m\n",
      "\n",
      "\n",
      "\u001b[1m\u001b[95m# Agent:\u001b[00m \u001b[1m\u001b[92mRouter Assistant\u001b[00m\n",
      "\u001b[95m## Thought:\u001b[00m \u001b[92mThought: The search results did not directly provide the answer to \"What is 7 + 9\". I should try the CalculatorAdd tool again with the correct input format.\u001b[00m\n",
      "\u001b[95m## Using tool:\u001b[00m \u001b[92mCalculatorAdd\u001b[00m\n",
      "\u001b[95m## Tool Input:\u001b[00m \u001b[92m\n",
      "\"{\\\"a\\\": 7, \\\"b\\\": 9}\"\u001b[00m\n",
      "\u001b[95m## Tool Output:\u001b[00m \u001b[92m\n",
      "\n",
      "I encountered an error while trying to use the tool. This was the error: calculator_add() missing 2 required positional arguments: 'a' and 'b'.\n",
      " Tool CalculatorAdd accepts these inputs: CalculatorAdd() - Adds two numbers and gives a result .\n",
      "Moving on then. I MUST either use a tool (use one at time) OR give my best final answer not both at the same time. To Use the following format:\n",
      "\n",
      "Thought: you should always think about what to do\n",
      "Action: the action to take, should be one of [DuckDuckGoSearch, CalculatorAdd]\n",
      "Action Input: the input to the action, dictionary enclosed in curly braces\n",
      "Observation: the result of the action\n",
      "... (this Thought/Action/Action Input/Result can repeat N times)\n",
      "Thought: I now can give a great answer\n",
      "Final Answer: Your final answer must be the great and the most complete as possible, it must be outcome described\n",
      "\n",
      " \u001b[00m\n",
      "\n",
      "\n",
      "\u001b[1m\u001b[95m# Agent:\u001b[00m \u001b[1m\u001b[92mRouter Assistant\u001b[00m\n",
      "\u001b[95m## Thought:\u001b[00m \u001b[92mThought: I will use the CalculatorAdd tool with the correct input format to directly find the answer to \"What is 7 + 9\".\u001b[00m\n",
      "\u001b[95m## Using tool:\u001b[00m \u001b[92mCalculatorAdd\u001b[00m\n",
      "\u001b[95m## Tool Input:\u001b[00m \u001b[92m\n",
      "\"{\\\"a\\\": 7, \\\"b\\\": 9}\"\u001b[00m\n",
      "\u001b[95m## Tool Output:\u001b[00m \u001b[92m\n",
      "\n",
      "I encountered an error while trying to use the tool. This was the error: calculator_add() missing 2 required positional arguments: 'a' and 'b'.\n",
      " Tool CalculatorAdd accepts these inputs: CalculatorAdd() - Adds two numbers and gives a result .\n",
      "Moving on then. I MUST either use a tool (use one at time) OR give my best final answer not both at the same time. To Use the following format:\n",
      "\n",
      "Thought: you should always think about what to do\n",
      "Action: the action to take, should be one of [DuckDuckGoSearch, CalculatorAdd]\n",
      "Action Input: the input to the action, dictionary enclosed in curly braces\n",
      "Observation: the result of the action\n",
      "... (this Thought/Action/Action Input/Result can repeat N times)\n",
      "Thought: I now can give a great answer\n",
      "Final Answer: Your final answer must be the great and the most complete as possible, it must be outcome described\n",
      "\n",
      " \u001b[00m\n",
      "\n",
      "\n",
      "\u001b[1m\u001b[95m# Agent:\u001b[00m \u001b[1m\u001b[92mRouter Assistant\u001b[00m\n",
      "\u001b[95m## Final Answer:\u001b[00m \u001b[92m\n",
      "The answer to \"What is 7 + 9?\" is 16.\u001b[00m\n",
      "\n",
      "\n"
     ]
    }
   ],
   "source": [
    "# Executing the Crew with Memory\n",
    "result_with_memory = crew_with_memory.kickoff(inputs=user_input)"
   ]
  },
  {
   "cell_type": "code",
   "execution_count": 66,
   "metadata": {},
   "outputs": [],
   "source": [
    "from IPython.display import Markdown"
   ]
  },
  {
   "cell_type": "code",
   "execution_count": 67,
   "metadata": {},
   "outputs": [
    {
     "data": {
      "text/markdown": [
       "The answer to \"What is 7 + 9?\" is 16."
      ],
      "text/plain": [
       "<IPython.core.display.Markdown object>"
      ]
     },
     "execution_count": 67,
     "metadata": {},
     "output_type": "execute_result"
    }
   ],
   "source": [
    "Markdown(result_with_memory.raw)"
   ]
  },
  {
   "cell_type": "code",
   "execution_count": 68,
   "metadata": {},
   "outputs": [],
   "source": [
    "user_input = {\n",
    "    \"questions\": \"What is the result of the match between GT vs MI in IPL ?\"\n",
    "}\n",
    "\n",
    "# Execute the Crew\n",
    "result = crew.kickoff(inputs=user_input)"
   ]
  },
  {
   "cell_type": "code",
   "execution_count": 69,
   "metadata": {},
   "outputs": [
    {
     "data": {
      "text/markdown": [
       "According to the information found, the recent head-to-head record between Gujarat Titans (GT) and Mumbai Indians (MI) in the IPL is as follows:\n",
       "\n",
       "- GT won by 6 runs\n",
       "- GT won by 62 runs \n",
       "- MI won by 27 runs\n",
       "- GT won by 55 runs\n",
       "- MI won by 5 runs\n",
       "\n",
       "The latest match between the two teams was played in IPL 2025, with GT emerging victorious. The key player battles were between Mumbai Indians captain Rohit Sharma and Kagiso Rabada of the Gujarat Titans. Overall, the GT vs MI rivalry has been closely contested, with Gujarat holding the edge in recent matches."
      ],
      "text/plain": [
       "<IPython.core.display.Markdown object>"
      ]
     },
     "execution_count": 69,
     "metadata": {},
     "output_type": "execute_result"
    }
   ],
   "source": [
    "Markdown(result.raw)"
   ]
  },
  {
   "cell_type": "code",
   "execution_count": 70,
   "metadata": {},
   "outputs": [],
   "source": [
    "user_input = {\n",
    "    \"questions\": \"Get the age of Aamir Khan of Bollywood and add 60 to it\"\n",
    "}\n",
    "\n",
    "# Execute the Crew\n",
    "result = crew.kickoff(inputs=user_input)"
   ]
  },
  {
   "cell_type": "code",
   "execution_count": 71,
   "metadata": {},
   "outputs": [
    {
     "data": {
      "text/markdown": [
       "Based on the information gathered, Aamir Khan's current age is 58 years old. To get the age after adding 60 years, the calculation would be:\n",
       "\n",
       "Aamir Khan's current age: 58 years\n",
       "Add 60 years: 58 + 60 = 118 years old\n",
       "\n",
       "So the final answer is that Aamir Khan's age after adding 60 years to his current age of 58 would be 118 years old."
      ],
      "text/plain": [
       "<IPython.core.display.Markdown object>"
      ]
     },
     "execution_count": 71,
     "metadata": {},
     "output_type": "execute_result"
    }
   ],
   "source": [
    "Markdown(result.raw)"
   ]
  },
  {
   "cell_type": "code",
   "execution_count": null,
   "metadata": {},
   "outputs": [],
   "source": []
  }
 ],
 "metadata": {
  "kernelspec": {
   "display_name": ".venv",
   "language": "python",
   "name": "python3"
  },
  "language_info": {
   "codemirror_mode": {
    "name": "ipython",
    "version": 3
   },
   "file_extension": ".py",
   "mimetype": "text/x-python",
   "name": "python",
   "nbconvert_exporter": "python",
   "pygments_lexer": "ipython3",
   "version": "3.11.6"
  }
 },
 "nbformat": 4,
 "nbformat_minor": 2
}
