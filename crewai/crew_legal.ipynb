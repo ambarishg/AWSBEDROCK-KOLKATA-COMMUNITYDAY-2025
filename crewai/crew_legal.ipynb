{
 "cells": [
  {
   "cell_type": "code",
   "execution_count": null,
   "metadata": {},
   "outputs": [],
   "source": [
    "from crewai import Agent, Task, Crew, LLM\n",
    "from crewai_tools import tool\n",
    "from langchain_community.tools import DuckDuckGoSearchRun\n",
    "import os\n",
    "from IPython.display import Markdown"
   ]
  },
  {
   "cell_type": "code",
   "execution_count": null,
   "metadata": {},
   "outputs": [],
   "source": [
    "os.environ[\"AWS_ACCESS_KEY_ID\"] = os.environ.get(\"AWS_ACCESS_KEY_ID\")\n",
    "os.environ[\"AWS_SECRET_ACCESS_KEY\"] = os.environ.get(\"AWS_SECRET_ACCESS_KEY\")\n",
    "os.environ[\"AWS_REGION_NAME\"] = \"us-east-1\""
   ]
  },
  {
   "cell_type": "code",
   "execution_count": null,
   "metadata": {},
   "outputs": [],
   "source": [
    "@tool('DuckDuckGoSearch')\n",
    "def search(search_query: str):\n",
    "    \"\"\"Search the web for information on a given topic\"\"\"\n",
    "    return DuckDuckGoSearchRun().run(search_query)"
   ]
  },
  {
   "cell_type": "code",
   "execution_count": null,
   "metadata": {},
   "outputs": [],
   "source": [
    "modelId=\"bedrock/anthropic.claude-3-haiku-20240307-v1:0\""
   ]
  },
  {
   "cell_type": "code",
   "execution_count": null,
   "metadata": {},
   "outputs": [],
   "source": [
    "# Configure the LLM\n",
    "llm = LLM(model=modelId)"
   ]
  },
  {
   "cell_type": "code",
   "execution_count": null,
   "metadata": {},
   "outputs": [],
   "source": [
    "# Define the Agent\n",
    "legal_agent = Agent(\n",
    "    role='Legal Assistant',\n",
    "    goal='Assistant to provide assistance with legal research',\n",
    "    backstory=\"You are an experienced Legal assistant specializing in legal matters of India.\",\n",
    "    verbose=False,\n",
    "    allow_delegation=False,\n",
    "    llm=llm,\n",
    "    tools=[search]  # Tool for online searching\n",
    ")"
   ]
  },
  {
   "cell_type": "code",
   "execution_count": null,
   "metadata": {},
   "outputs": [],
   "source": [
    "# Define the Task\n",
    "task = Task(\n",
    "    description=\"Based on the user's questions: {questions}, research and advise on the Legal Matters.\",\n",
    "    expected_output=\"A list of legal advise and answers with brief descriptions.\",\n",
    "    agent=legal_agent\n",
    ")"
   ]
  },
  {
   "cell_type": "code",
   "execution_count": null,
   "metadata": {},
   "outputs": [],
   "source": [
    "# Create the Crew\n",
    "crew = Crew(\n",
    "    agents=[legal_agent],\n",
    "    tasks=[task],\n",
    "    verbose=False,\n",
    ")"
   ]
  },
  {
   "cell_type": "code",
   "execution_count": null,
   "metadata": {},
   "outputs": [],
   "source": [
    "# User input for travel preferences\n",
    "user_input = {\n",
    "    \"questions\": \"I want a know about the Indian Special Marraige Act.\"\n",
    "}\n",
    "\n",
    "# Execute the Crew\n",
    "result = crew.kickoff(inputs=user_input)"
   ]
  },
  {
   "cell_type": "code",
   "execution_count": null,
   "metadata": {},
   "outputs": [],
   "source": [
    "Markdown(result.raw)"
   ]
  },
  {
   "cell_type": "code",
   "execution_count": null,
   "metadata": {},
   "outputs": [],
   "source": [
    "# Enabling Memory in the Agent\n",
    "crew_with_memory = Crew(\n",
    "    agents=[legal_agent],\n",
    "    tasks=[task],\n",
    "    verbose=True,\n",
    "    memory=True,  # Enable memory\n",
    "    embedder={\n",
    "        \"provider\": \"aws_bedrock\",\n",
    "        \"config\": {\n",
    "            \"model\": \"amazon.titan-embed-text-v1\",  # Embedding model for memory\n",
    "            \"vector_dimension\": 1024\n",
    "        }\n",
    "    },\n",
    "    \n",
    ")"
   ]
  },
  {
   "cell_type": "code",
   "execution_count": null,
   "metadata": {},
   "outputs": [],
   "source": [
    "# Executing the Crew with Memory\n",
    "result_with_memory = crew_with_memory.kickoff(inputs=user_input)"
   ]
  },
  {
   "cell_type": "code",
   "execution_count": null,
   "metadata": {},
   "outputs": [],
   "source": [
    "from IPython.display import Markdown"
   ]
  },
  {
   "cell_type": "code",
   "execution_count": null,
   "metadata": {},
   "outputs": [],
   "source": [
    "Markdown(result_with_memory.raw)"
   ]
  },
  {
   "cell_type": "code",
   "execution_count": null,
   "metadata": {},
   "outputs": [],
   "source": []
  }
 ],
 "metadata": {
  "kernelspec": {
   "display_name": ".venv",
   "language": "python",
   "name": "python3"
  },
  "language_info": {
   "codemirror_mode": {
    "name": "ipython",
    "version": 3
   },
   "file_extension": ".py",
   "mimetype": "text/x-python",
   "name": "python",
   "nbconvert_exporter": "python",
   "pygments_lexer": "ipython3",
   "version": "3.11.6"
  }
 },
 "nbformat": 4,
 "nbformat_minor": 2
}
