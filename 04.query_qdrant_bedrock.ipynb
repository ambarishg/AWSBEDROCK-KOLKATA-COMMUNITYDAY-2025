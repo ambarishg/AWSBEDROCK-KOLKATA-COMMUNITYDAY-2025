{
 "cells": [
  {
   "cell_type": "code",
   "execution_count": 1,
   "metadata": {},
   "outputs": [
    {
     "name": "stderr",
     "output_type": "stream",
     "text": [
      "c:\\Ambarish\\AWSBEDROCK\\.venv\\Lib\\site-packages\\tqdm\\auto.py:21: TqdmWarning: IProgress not found. Please update jupyter and ipywidgets. See https://ipywidgets.readthedocs.io/en/stable/user_install.html\n",
      "  from .autonotebook import tqdm as notebook_tqdm\n"
     ]
    }
   ],
   "source": [
    "from rag_qdrant_bedrock import RAG_QDRANT_BEDROCK\n",
    "from pprint import pprint"
   ]
  },
  {
   "cell_type": "code",
   "execution_count": 2,
   "metadata": {},
   "outputs": [],
   "source": [
    "rqd = RAG_QDRANT_BEDROCK()"
   ]
  },
  {
   "cell_type": "code",
   "execution_count": 3,
   "metadata": {},
   "outputs": [],
   "source": [
    "query=\"What is Naked Trust?\""
   ]
  },
  {
   "cell_type": "code",
   "execution_count": 5,
   "metadata": {},
   "outputs": [],
   "source": [
    "response = rqd.query(query)"
   ]
  },
  {
   "cell_type": "code",
   "execution_count": 7,
   "metadata": {},
   "outputs": [
    {
     "name": "stdout",
     "output_type": "stream",
     "text": [
      " A naked trust is a trust which simply holds property for a person until they ask the trustee to return it. It does not involve the trustee having other responsibilities beyond holding the property and returning it when asked by the beneficiary.\n",
      "\n",
      "The key features of a naked trust are:\n",
      "\n",
      "- The trustee simply holds legal title to the trust property but has no active duties or management responsibilities beyond holding and returning the property.\n",
      "\n",
      "- The beneficiary has complete control over the trust property and can ask the trustee to return it at any time. \n",
      "\n",
      "- The trustee has very limited discretion - they must return the property if asked by the beneficiary, they cannot make decisions about how the property is used.\n",
      "\n",
      "So in summary, a naked trust involves minimal responsibilities for the trustee beyond just holding the trust property until the beneficiary asks for it back, with the beneficiary retaining full control over the property. The trustee acts more like a placeholder than an active manager of the trust.\n"
     ]
    }
   ],
   "source": [
    "print(response)"
   ]
  },
  {
   "cell_type": "code",
   "execution_count": null,
   "metadata": {},
   "outputs": [],
   "source": []
  }
 ],
 "metadata": {
  "kernelspec": {
   "display_name": ".venv",
   "language": "python",
   "name": "python3"
  },
  "language_info": {
   "codemirror_mode": {
    "name": "ipython",
    "version": 3
   },
   "file_extension": ".py",
   "mimetype": "text/x-python",
   "name": "python",
   "nbconvert_exporter": "python",
   "pygments_lexer": "ipython3",
   "version": "3.11.6"
  }
 },
 "nbformat": 4,
 "nbformat_minor": 2
}
