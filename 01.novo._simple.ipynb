{
 "cells": [
  {
   "cell_type": "code",
   "execution_count": 1,
   "metadata": {},
   "outputs": [],
   "source": [
    "import boto3\n",
    "import json\n",
    "import os\n",
    "\n",
    "\n",
    "client = boto3.client(\n",
    "    \"bedrock-runtime\",\n",
    "   aws_access_key_id=os.environ.get(\"AWS_ACCESS_KEY_ID\"),\n",
    "    aws_secret_access_key=os.environ.get(\"AWS_SECRET_ACCESS_KEY\"),\n",
    "    region_name=\"us-east-1\",\n",
    ")"
   ]
  },
  {
   "cell_type": "code",
   "execution_count": 2,
   "metadata": {},
   "outputs": [],
   "source": [
    "messages = [\n",
    "    {\"role\": \"user\", \"content\": [{\"text\": \"Write a short poem\"}]},\n",
    "]\n",
    "\n",
    "model_response = client.converse(\n",
    "    modelId=\"amazon.nova-lite-v1:0\", \n",
    "    messages=messages\n",
    ")"
   ]
  },
  {
   "cell_type": "code",
   "execution_count": 3,
   "metadata": {},
   "outputs": [
    {
     "name": "stdout",
     "output_type": "stream",
     "text": [
      "\n",
      "[Full Response]\n",
      "{\n",
      "  \"ResponseMetadata\": {\n",
      "    \"RequestId\": \"a74b3041-4569-4b68-ba53-a4285043b44e\",\n",
      "    \"HTTPStatusCode\": 200,\n",
      "    \"HTTPHeaders\": {\n",
      "      \"date\": \"Sun, 23 Mar 2025 08:21:22 GMT\",\n",
      "      \"content-type\": \"application/json\",\n",
      "      \"content-length\": \"610\",\n",
      "      \"connection\": \"keep-alive\",\n",
      "      \"x-amzn-requestid\": \"a74b3041-4569-4b68-ba53-a4285043b44e\"\n",
      "    },\n",
      "    \"RetryAttempts\": 0\n",
      "  },\n",
      "  \"output\": {\n",
      "    \"message\": {\n",
      "      \"role\": \"assistant\",\n",
      "      \"content\": [\n",
      "        {\n",
      "          \"text\": \"In the quiet of the morning light,\\nA whisper of the dew-kissed night,\\nPetals open, soft and slow,\\nTo greet the world with gentle glow.\\n\\nA breeze that dances through the trees,\\nCarries secrets on its ease,\\nOf dreams that flutter, free and wild,\\nIn the heart of nature's child.\\n\\nStars that fade, the sky takes flight,\\nAs day unfolds its golden light,\\nA fleeting moment, pure and bright,\\nIn the dance of day and night.\"\n",
      "        }\n",
      "      ]\n",
      "    }\n",
      "  },\n",
      "  \"stopReason\": \"end_turn\",\n",
      "  \"usage\": {\n",
      "    \"inputTokens\": 4,\n",
      "    \"outputTokens\": 100,\n",
      "    \"totalTokens\": 104\n",
      "  },\n",
      "  \"metrics\": {\n",
      "    \"latencyMs\": 694\n",
      "  }\n",
      "}\n",
      "\n",
      "[Response Content Text]\n",
      "In the quiet of the morning light,\n",
      "A whisper of the dew-kissed night,\n",
      "Petals open, soft and slow,\n",
      "To greet the world with gentle glow.\n",
      "\n",
      "A breeze that dances through the trees,\n",
      "Carries secrets on its ease,\n",
      "Of dreams that flutter, free and wild,\n",
      "In the heart of nature's child.\n",
      "\n",
      "Stars that fade, the sky takes flight,\n",
      "As day unfolds its golden light,\n",
      "A fleeting moment, pure and bright,\n",
      "In the dance of day and night.\n"
     ]
    }
   ],
   "source": [
    "print(\"\\n[Full Response]\")\n",
    "print(json.dumps(model_response, indent=2))\n",
    "\n",
    "print(\"\\n[Response Content Text]\")\n",
    "print(model_response[\"output\"][\"message\"][\"content\"][0][\"text\"])\n"
   ]
  },
  {
   "cell_type": "code",
   "execution_count": null,
   "metadata": {},
   "outputs": [],
   "source": []
  }
 ],
 "metadata": {
  "kernelspec": {
   "display_name": ".venv",
   "language": "python",
   "name": "python3"
  },
  "language_info": {
   "codemirror_mode": {
    "name": "ipython",
    "version": 3
   },
   "file_extension": ".py",
   "mimetype": "text/x-python",
   "name": "python",
   "nbconvert_exporter": "python",
   "pygments_lexer": "ipython3",
   "version": "3.11.6"
  }
 },
 "nbformat": 4,
 "nbformat_minor": 2
}
