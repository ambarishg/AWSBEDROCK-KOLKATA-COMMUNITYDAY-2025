{
 "cells": [
  {
   "cell_type": "code",
   "execution_count": 1,
   "metadata": {},
   "outputs": [],
   "source": [
    "import boto3\n",
    "import json\n",
    "import os\n",
    "\n",
    "client = boto3.client(\n",
    "    \"bedrock-runtime\",\n",
    "    aws_access_key_id=os.environ.get(\"AWS_ACCESS_KEY_ID\"),\n",
    "    aws_secret_access_key=os.environ.get(\"AWS_SECRET_ACCESS_KEY\"),\n",
    "    region_name=\"us-east-1\",\n",
    ")"
   ]
  },
  {
   "cell_type": "code",
   "execution_count": 2,
   "metadata": {},
   "outputs": [],
   "source": [
    "context = \"\"\"\n",
    "The men's high jump event at the 2020 Summer Olympics took place between 30 July and 1 August 2021 at the Olympic Stadium.\n",
    "33 athletes from 24 nations competed; the total possible number depended on how many nations would use universality places\n",
    "to enter athletes in addition to the 32 qualifying through mark or ranking (no universality places were used in 2021).\n",
    "Italian athlete Gianmarco Tamberi along with Qatari athlete Mutaz Essa Barshim emerged as joint winners of the event following\n",
    "a tie between both of them as they cleared 2.37m. Both Tamberi and Barshim agreed to share the gold medal in a rare instance\n",
    "where the athletes of different nations had agreed to share the same medal in the history of Olympics.\n",
    "Barshim in particular was heard to ask a competition official \"Can we have two golds?\" in response to being offered a\n",
    "'jump off'. Maksim Nedasekau of Belarus took bronze. The medals were the first ever in the men's high jump for Italy and\n",
    "Belarus, the first gold in the men's high jump for Italy and Qatar, and the third consecutive medal in the men's high jump\n",
    "for Qatar (all by Barshim). Barshim became only the second man to earn three medals in high jump, joining Patrik Sjöberg\n",
    "of Sweden (1984 to 1992).\"\"\"\n",
    "\n",
    "query = \"Who won the gold in high jump event at the 2020 Summer Olympics?\""
   ]
  },
  {
   "cell_type": "code",
   "execution_count": 3,
   "metadata": {},
   "outputs": [],
   "source": [
    "messages=[]\n",
    "messages.append({\"role\": \"user\", \"content\": [{\"text\": query}]})\n",
    "messages.append({\"role\": \"user\", \"content\": [{\"text\": context}]})"
   ]
  },
  {
   "cell_type": "code",
   "execution_count": 4,
   "metadata": {},
   "outputs": [],
   "source": [
    "model_response = client.converse(\n",
    "    modelId=\"amazon.nova-lite-v1:0\", \n",
    "    messages=messages\n",
    ")"
   ]
  },
  {
   "cell_type": "code",
   "execution_count": 5,
   "metadata": {},
   "outputs": [
    {
     "name": "stdout",
     "output_type": "stream",
     "text": [
      "\n",
      "[Full Response]\n",
      "{\n",
      "  \"ResponseMetadata\": {\n",
      "    \"RequestId\": \"83d1febc-604c-4fc7-9519-9a64f029b620\",\n",
      "    \"HTTPStatusCode\": 200,\n",
      "    \"HTTPHeaders\": {\n",
      "      \"date\": \"Sun, 23 Mar 2025 08:21:38 GMT\",\n",
      "      \"content-type\": \"application/json\",\n",
      "      \"content-length\": \"905\",\n",
      "      \"connection\": \"keep-alive\",\n",
      "      \"x-amzn-requestid\": \"83d1febc-604c-4fc7-9519-9a64f029b620\"\n",
      "    },\n",
      "    \"RetryAttempts\": 0\n",
      "  },\n",
      "  \"output\": {\n",
      "    \"message\": {\n",
      "      \"role\": \"assistant\",\n",
      "      \"content\": [\n",
      "        {\n",
      "          \"text\": \"Italian athlete Gianmarco Tamberi and Qatari athlete Mutaz Essa Barshim emerged as joint winners of the men's high jump event at the 2020 Summer Olympics. Both athletes cleared a height of 2.37 meters, resulting in a tie for the gold medal. In a rare and remarkable instance, they agreed to share the gold medal rather than compete in a jump-off to determine a single winner. This decision marked the first time in Olympic history that athletes from different nations had agreed to share the same medal. Maksim Nedasekau of Belarus won the bronze medal. This event also marked the first-ever gold medal in the men's high jump for both Italy and Qatar, as well as the first-ever medals for Italy and Belarus in this event.\"\n",
      "        }\n",
      "      ]\n",
      "    }\n",
      "  },\n",
      "  \"stopReason\": \"end_turn\",\n",
      "  \"usage\": {\n",
      "    \"inputTokens\": 313,\n",
      "    \"outputTokens\": 159,\n",
      "    \"totalTokens\": 472\n",
      "  },\n",
      "  \"metrics\": {\n",
      "    \"latencyMs\": 858\n",
      "  }\n",
      "}\n",
      "\n",
      "[Response Content Text]\n",
      "Italian athlete Gianmarco Tamberi and Qatari athlete Mutaz Essa Barshim emerged as joint winners of the men's high jump event at the 2020 Summer Olympics. Both athletes cleared a height of 2.37 meters, resulting in a tie for the gold medal. In a rare and remarkable instance, they agreed to share the gold medal rather than compete in a jump-off to determine a single winner. This decision marked the first time in Olympic history that athletes from different nations had agreed to share the same medal. Maksim Nedasekau of Belarus won the bronze medal. This event also marked the first-ever gold medal in the men's high jump for both Italy and Qatar, as well as the first-ever medals for Italy and Belarus in this event.\n"
     ]
    }
   ],
   "source": [
    "print(\"\\n[Full Response]\")\n",
    "print(json.dumps(model_response, indent=2))\n",
    "\n",
    "print(\"\\n[Response Content Text]\")\n",
    "print(model_response[\"output\"][\"message\"][\"content\"][0][\"text\"])\n"
   ]
  },
  {
   "cell_type": "code",
   "execution_count": null,
   "metadata": {},
   "outputs": [],
   "source": []
  }
 ],
 "metadata": {
  "kernelspec": {
   "display_name": ".venv",
   "language": "python",
   "name": "python3"
  },
  "language_info": {
   "codemirror_mode": {
    "name": "ipython",
    "version": 3
   },
   "file_extension": ".py",
   "mimetype": "text/x-python",
   "name": "python",
   "nbconvert_exporter": "python",
   "pygments_lexer": "ipython3",
   "version": "3.11.6"
  }
 },
 "nbformat": 4,
 "nbformat_minor": 2
}
