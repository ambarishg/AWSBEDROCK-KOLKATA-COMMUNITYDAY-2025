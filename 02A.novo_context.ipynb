{
 "cells": [
  {
   "cell_type": "code",
   "execution_count": 3,
   "metadata": {},
   "outputs": [],
   "source": [
    "import boto3\n",
    "import json\n",
    "import os\n",
    "\n",
    "client = boto3.client(\n",
    "    \"bedrock-runtime\",\n",
    "    aws_access_key_id=os.environ.get(\"AWS_ACCESS_KEY_ID\"),\n",
    "    aws_secret_access_key=os.environ.get(\"AWS_SECRET_ACCESS_KEY\"),\n",
    "    region_name=\"us-east-1\",\n",
    ")"
   ]
  },
  {
   "cell_type": "code",
   "execution_count": 4,
   "metadata": {},
   "outputs": [
    {
     "name": "stdout",
     "output_type": "stream",
     "text": [
      "[{'text': '\\nIf the answer is not found within the context, \\nplease mention that the answer is not found.\\nPlease return the response in plain text. \\nConvert any markdown to plain text.\\n'}]\n"
     ]
    }
   ],
   "source": [
    "SYSTEM_PROMPT = \"\"\"\n",
    "If the answer is not found within the context, \n",
    "please mention that the answer is not found.\n",
    "Please return the response in plain text. \n",
    "Convert any markdown to plain text.\n",
    "\"\"\"\n",
    "system = [{ \"text\": SYSTEM_PROMPT }]\n",
    "print(system)"
   ]
  },
  {
   "cell_type": "code",
   "execution_count": 5,
   "metadata": {},
   "outputs": [],
   "source": [
    "context = \"\"\"\n",
    "The men's high jump event at the 2020 Summer Olympics took place between 30 July and 1 August 2021 at the Olympic Stadium.\n",
    "33 athletes from 24 nations competed; the total possible number depended on how many nations would use universality places\n",
    "to enter athletes in addition to the 32 qualifying through mark or ranking (no universality places were used in 2021).\n",
    "Italian athlete Gianmarco Tamberi along with Qatari athlete Mutaz Essa Barshim emerged as joint winners of the event following\n",
    "a tie between both of them as they cleared 2.37m. Both Tamberi and Barshim agreed to share the gold medal in a rare instance\n",
    "where the athletes of different nations had agreed to share the same medal in the history of Olympics.\n",
    "Barshim in particular was heard to ask a competition official \"Can we have two golds?\" in response to being offered a\n",
    "'jump off'. Maksim Nedasekau of Belarus took bronze. The medals were the first ever in the men's high jump for Italy and\n",
    "Belarus, the first gold in the men's high jump for Italy and Qatar, and the third consecutive medal in the men's high jump\n",
    "for Qatar (all by Barshim). Barshim became only the second man to earn three medals in high jump, joining Patrik Sjöberg\n",
    "of Sweden (1984 to 1992).\"\"\"\n",
    "\n",
    "query = \"Who won the gold in high jump event at the 2020 Summer Olympics?\""
   ]
  },
  {
   "cell_type": "code",
   "execution_count": 6,
   "metadata": {},
   "outputs": [],
   "source": [
    "messages=[]\n",
    "messages.append({\"role\": \"user\", \"content\": [{\"text\": query}]})\n",
    "messages.append({\"role\": \"user\", \"content\": [{\"text\": context}]})"
   ]
  },
  {
   "cell_type": "code",
   "execution_count": 7,
   "metadata": {},
   "outputs": [],
   "source": [
    "model_response = client.converse(\n",
    "    modelId=\"amazon.nova-lite-v1:0\", \n",
    "    messages=messages,\n",
    "    system = system\n",
    ")"
   ]
  },
  {
   "cell_type": "code",
   "execution_count": 8,
   "metadata": {},
   "outputs": [
    {
     "name": "stdout",
     "output_type": "stream",
     "text": [
      "\n",
      "[Full Response]\n",
      "{\n",
      "  \"ResponseMetadata\": {\n",
      "    \"RequestId\": \"2f971384-0da7-4765-9864-6ad4f2b355d6\",\n",
      "    \"HTTPStatusCode\": 200,\n",
      "    \"HTTPHeaders\": {\n",
      "      \"date\": \"Sun, 30 Mar 2025 04:49:50 GMT\",\n",
      "      \"content-type\": \"application/json\",\n",
      "      \"content-length\": \"318\",\n",
      "      \"connection\": \"keep-alive\",\n",
      "      \"x-amzn-requestid\": \"2f971384-0da7-4765-9864-6ad4f2b355d6\"\n",
      "    },\n",
      "    \"RetryAttempts\": 0\n",
      "  },\n",
      "  \"output\": {\n",
      "    \"message\": {\n",
      "      \"role\": \"assistant\",\n",
      "      \"content\": [\n",
      "        {\n",
      "          \"text\": \"Gianmarco Tamberi of Italy and Mutaz Essa Barshim of Qatar won the gold medal in the men's high jump event at the 2020 Summer Olympics.\"\n",
      "        }\n",
      "      ]\n",
      "    }\n",
      "  },\n",
      "  \"stopReason\": \"end_turn\",\n",
      "  \"usage\": {\n",
      "    \"inputTokens\": 350,\n",
      "    \"outputTokens\": 37,\n",
      "    \"totalTokens\": 387\n",
      "  },\n",
      "  \"metrics\": {\n",
      "    \"latencyMs\": 272\n",
      "  }\n",
      "}\n",
      "\n",
      "[Response Content Text]\n",
      "Gianmarco Tamberi of Italy and Mutaz Essa Barshim of Qatar won the gold medal in the men's high jump event at the 2020 Summer Olympics.\n"
     ]
    }
   ],
   "source": [
    "print(\"\\n[Full Response]\")\n",
    "print(json.dumps(model_response, indent=2))\n",
    "\n",
    "print(\"\\n[Response Content Text]\")\n",
    "print(model_response[\"output\"][\"message\"][\"content\"][0][\"text\"])\n"
   ]
  },
  {
   "cell_type": "code",
   "execution_count": 9,
   "metadata": {},
   "outputs": [
    {
     "name": "stdout",
     "output_type": "stream",
     "text": [
      "Gianmarco Tamberi of Italy and Mutaz Essa Barshim of Qatar won the gold medal in the men's high jump event at the 2020 Summer Olympics.\n"
     ]
    }
   ],
   "source": [
    "print(model_response[\"output\"][\"message\"][\"content\"][0][\"text\"])"
   ]
  },
  {
   "cell_type": "code",
   "execution_count": null,
   "metadata": {},
   "outputs": [],
   "source": []
  }
 ],
 "metadata": {
  "kernelspec": {
   "display_name": ".venv",
   "language": "python",
   "name": "python3"
  },
  "language_info": {
   "codemirror_mode": {
    "name": "ipython",
    "version": 3
   },
   "file_extension": ".py",
   "mimetype": "text/x-python",
   "name": "python",
   "nbconvert_exporter": "python",
   "pygments_lexer": "ipython3",
   "version": "3.11.6"
  }
 },
 "nbformat": 4,
 "nbformat_minor": 2
}
